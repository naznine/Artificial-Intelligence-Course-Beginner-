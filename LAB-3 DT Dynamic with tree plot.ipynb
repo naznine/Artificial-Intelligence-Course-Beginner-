{
 "cells": [
  {
   "cell_type": "code",
   "execution_count": 1,
   "id": "01d26572",
   "metadata": {},
   "outputs": [
    {
     "name": "stdout",
     "output_type": "stream",
     "text": [
      "Collecting python-igraph\n",
      "  Downloading python_igraph-0.9.9-py3-none-any.whl (9.1 kB)\n",
      "Collecting igraph==0.9.9\n",
      "  Downloading igraph-0.9.9-cp39-cp39-win_amd64.whl (2.8 MB)\n",
      "Collecting texttable>=1.6.2\n",
      "  Downloading texttable-1.6.4-py2.py3-none-any.whl (10 kB)\n",
      "Installing collected packages: texttable, igraph, python-igraph\n",
      "Successfully installed igraph-0.9.9 python-igraph-0.9.9 texttable-1.6.4\n"
     ]
    }
   ],
   "source": [
    "!pip install python-igraph"
   ]
  },
  {
   "cell_type": "code",
   "execution_count": 2,
   "id": "1bc8f16b",
   "metadata": {},
   "outputs": [],
   "source": [
    "import igraph\n",
    "from igraph import Graph, EdgeSeq"
   ]
  },
  {
   "cell_type": "code",
   "execution_count": 3,
   "id": "ebcb6038",
   "metadata": {},
   "outputs": [
    {
     "name": "stdout",
     "output_type": "stream",
     "text": [
      "14 5\n",
      "[['<=30' 'High' 'No' 'Fair' 'No']\n",
      " ['<=30' 'High' 'No' 'Excellent' 'No']\n",
      " ['31-40' 'High' 'No' 'Fair' 'Yes']\n",
      " ['>40' 'Medium' 'No' 'Fair' 'Yes']\n",
      " ['>40' 'Low' 'Yes' 'Fair' 'Yes']\n",
      " ['>40' 'Low' 'Yes' 'Excellent' 'No']\n",
      " ['31-40' 'Low' 'Yes' 'Excellent' 'Yes']\n",
      " ['<=30' 'Medium' 'No' 'Fair' 'No']\n",
      " ['<=30' 'Low' 'Yes' 'Fair' 'Yes']\n",
      " ['>40' 'Medium' 'Yes' 'Fair' 'Yes']\n",
      " ['<=30' 'Medium' 'Yes' 'Excellent' 'Yes']\n",
      " ['31-40' 'Medium' 'No' 'Excellent' 'Yes']\n",
      " ['31-40' 'High' 'Yes' 'Fair' 'Yes']\n",
      " ['>40' 'Medium' 'No' 'Excellent' 'No']]\n"
     ]
    }
   ],
   "source": [
    "import numpy as np\n",
    "import matplotlib.pyplot as plt\n",
    "import pandas as pd\n",
    "import math\n",
    "import copy\n",
    "\n",
    "dataset = pd.read_csv(r'H:\\RUET\\3--2\\CSE 3210- Sessional on 3209\\Decision_Tree\\Book.csv')\n",
    "\n",
    "X = dataset.iloc[:,0:].values\n",
    "\n",
    "total_rows=len(dataset.axes[0]) \n",
    "total_cols=len(dataset.axes[1])\n",
    "str1=dataset.columns[total_cols-1]\n",
    "#print(str1)\n",
    "uniq=np.unique(dataset[str1])\n",
    "#print(uniq)\n",
    "print(total_rows,total_cols)\n",
    "print(X)\n",
    "\n",
    "\n",
    "class Node(object):\n",
    "    def __init__(self):\n",
    "        self.value = None\n",
    "        self.decision = None\n",
    "        self.childs = None\n",
    "        "
   ]
  },
  {
   "cell_type": "code",
   "execution_count": 4,
   "id": "1a19f48d",
   "metadata": {},
   "outputs": [],
   "source": [
    "def findEntropy(data, rows):\n",
    "    class1 = 0.0\n",
    "    class2 = 0.0\n",
    "    ans = -1\n",
    "    idx = len(data[0]) -1\n",
    "    entropy = 0\n",
    "    \n",
    "    for i in rows:\n",
    "        if data[i][idx] == uniq[1]:\n",
    "            class1 += 1\n",
    "        else:\n",
    "            class2 += 1\n",
    "\n",
    "    x = class1/(class1+class2)\n",
    "    y = class2/(class1+class2)\n",
    "    #print(class1)\n",
    "    #print(class2)\n",
    "    if x != 0 and y != 0:\n",
    "        entropy = -1 * (x*math.log2(x) + y*math.log2(y))\n",
    "    if x == 1:\n",
    "        ans = 1\n",
    "    if y == 1:\n",
    "        ans = 0\n",
    "    return entropy, ans"
   ]
  },
  {
   "cell_type": "code",
   "execution_count": null,
   "id": "af348473",
   "metadata": {},
   "outputs": [],
   "source": []
  }
 ],
 "metadata": {
  "kernelspec": {
   "display_name": "Python 3 (ipykernel)",
   "language": "python",
   "name": "python3"
  },
  "language_info": {
   "codemirror_mode": {
    "name": "ipython",
    "version": 3
   },
   "file_extension": ".py",
   "mimetype": "text/x-python",
   "name": "python",
   "nbconvert_exporter": "python",
   "pygments_lexer": "ipython3",
   "version": "3.9.7"
  }
 },
 "nbformat": 4,
 "nbformat_minor": 5
}
