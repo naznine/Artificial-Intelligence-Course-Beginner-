{
 "cells": [
  {
   "cell_type": "code",
   "execution_count": 1,
   "id": "8ea7358d",
   "metadata": {},
   "outputs": [
    {
     "name": "stdout",
     "output_type": "stream",
     "text": [
      "14 5\n",
      "[['<=30' 'High' 'No' 'Fair' 'No']\n",
      " ['<=30' 'High' 'No' 'Excellent' 'No']\n",
      " ['31-40' 'High' 'No' 'Fair' 'Yes']\n",
      " ['>40' 'Medium' 'No' 'Fair' 'Yes']\n",
      " ['>40' 'Low' 'Yes' 'Fair' 'Yes']\n",
      " ['>40' 'Low' 'Yes' 'Excellent' 'No']\n",
      " ['31-40' 'Low' 'Yes' 'Excellent' 'Yes']\n",
      " ['<=30' 'Medium' 'No' 'Fair' 'No']\n",
      " ['<=30' 'Low' 'Yes' 'Fair' 'Yes']\n",
      " ['>40' 'Medium' 'Yes' 'Fair' 'Yes']\n",
      " ['<=30' 'Medium' 'Yes' 'Excellent' 'Yes']\n",
      " ['31-40' 'Medium' 'No' 'Excellent' 'Yes']\n",
      " ['31-40' 'High' 'Yes' 'Fair' 'Yes']\n",
      " ['>40' 'Medium' 'No' 'Excellent' 'No']]\n"
     ]
    }
   ],
   "source": [
    "import numpy as np\n",
    "import matplotlib.pyplot as plt\n",
    "import pandas as pd\n",
    "import math\n",
    "import copy\n",
    "\n",
    "dataset = pd.read_csv(r'H:\\RUET\\3--2\\CSE 3210- Sessional on 3209\\Decision_Tree\\Book.csv')\n",
    "df = pd.read_csv(r'H:\\RUET\\3--2\\CSE 3210- Sessional on 3209\\Decision_Tree\\Book.csv')\n",
    "\n",
    "X = dataset.iloc[:,0:].values\n",
    "\n",
    "total_rows=len(df.axes[0]) \n",
    "total_cols=len(df.axes[1])\n",
    "\n",
    "print(total_rows,total_cols)\n",
    "print(X)\n",
    "\n",
    "attribute = ['Age','Income','Student','Credit_rating','Buys_computer']\n",
    "\n",
    "class Node(object):\n",
    "    def __init__(self):\n",
    "        self.value = None\n",
    "        self.decision = None\n",
    "        self.childs = None"
   ]
  },
  {
   "cell_type": "code",
   "execution_count": 2,
   "id": "b9c87803",
   "metadata": {},
   "outputs": [],
   "source": [
    "def findEntropy(data, rows):\n",
    "    yes = 0\n",
    "    no = 0\n",
    "    ans = -1\n",
    "    idx = len(data[0]) -1\n",
    "    entropy = 0\n",
    "    \n",
    "    for i in rows:\n",
    "        if data[i][idx] == 'Yes':\n",
    "            yes = yes + 1\n",
    "        else:\n",
    "            no = no + 1\n",
    "\n",
    "    x = yes/(yes+no)\n",
    "    y = no/(yes+no)\n",
    "    #print(yes)\n",
    "    #print(no)\n",
    "    if x != 0 and y != 0:\n",
    "        entropy = -1 * (x*math.log2(x) + y*math.log2(y))\n",
    "    if x == 1:\n",
    "        ans = 1\n",
    "    if y == 1:\n",
    "        ans = 0\n",
    "    return entropy, ans"
   ]
  },
  {
   "cell_type": "code",
   "execution_count": 3,
   "id": "6dbbfb78",
   "metadata": {},
   "outputs": [
    {
     "name": "stdout",
     "output_type": "stream",
     "text": [
      "(0.9402859586706311, -1)\n"
     ]
    }
   ],
   "source": [
    "rows = [i for i in range(0, 14)]\n",
    "val=findEntropy(X,rows)\n",
    "print(val)"
   ]
  },
  {
   "cell_type": "code",
   "execution_count": 4,
   "id": "376519df",
   "metadata": {},
   "outputs": [],
   "source": [
    "def findMaxGain(data, rows, columns):\n",
    "    maxGain = 0\n",
    "    retidx = -1\n",
    "    entropy, ans = findEntropy(data, rows)\n",
    "    \n",
    "    \"\"\"\n",
    "    if entropy == 0:\n",
    "        if ans == 1:\n",
    "            print(\"Yes\")\n",
    "        else:\n",
    "            print(\"No\")\n",
    "        return maxGain, retidx, ans\n",
    "    \"\"\"\n",
    "\n",
    "    for j in columns:\n",
    "        mydict = {}\n",
    "        idx = j\n",
    "        for i in rows:\n",
    "            key = data[i][idx]\n",
    "            if key not in mydict:\n",
    "                mydict[key] = 1\n",
    "            else:\n",
    "                mydict[key] = mydict[key] + 1\n",
    "        gain = entropy\n",
    "\n",
    "        #print(mydict)\n",
    "        for key in mydict:\n",
    "            yes = 0\n",
    "            no = 0\n",
    "            for k in rows:\n",
    "                if data[k][j] == key:\n",
    "                    if data[k][-1] == 'Yes':\n",
    "                        yes = yes + 1\n",
    "                    else:\n",
    "                        no = no + 1\n",
    "            #print(key,yes, no)\n",
    "            x = yes/(yes+no)\n",
    "            y = no/(yes+no)\n",
    "            # print(x, y)\n",
    "            if x != 0 and y != 0:\n",
    "                gain += (mydict[key] * (x*math.log2(x) + y*math.log2(y)))/total_rows\n",
    "        #print(gain)\n",
    "        if gain > maxGain:\n",
    "            maxGain = gain\n",
    "            retidx = j\n",
    "            \n",
    "    return maxGain, retidx, ans"
   ]
  },
  {
   "cell_type": "code",
   "execution_count": 5,
   "id": "42aebf34",
   "metadata": {},
   "outputs": [
    {
     "data": {
      "text/plain": [
       "(0.24674981977443927, 0, -1)"
      ]
     },
     "execution_count": 5,
     "metadata": {},
     "output_type": "execute_result"
    }
   ],
   "source": [
    "rows = [i for i in range(0, total_rows)]\n",
    "columns = [i for i in range(0, total_cols-1)]\n",
    "findMaxGain(X, rows, columns)"
   ]
  },
  {
   "cell_type": "code",
   "execution_count": 6,
   "id": "73f369bf",
   "metadata": {},
   "outputs": [],
   "source": [
    "def buildTree(data, rows, columns):\n",
    "\n",
    "    maxGain, idx, ans = findMaxGain(X, rows, columns)\n",
    "\n",
    "    root = Node()\n",
    "    root.childs = []\n",
    "    \n",
    "    if maxGain == 0:\n",
    "        if ans == 1:\n",
    "            root.value = 'Yes'\n",
    "        else:\n",
    "            root.value = 'No'\n",
    "        return root\n",
    "\n",
    "    root.value = attribute[idx]\n",
    "    mydict = {}\n",
    "    for i in rows:\n",
    "        key = data[i][idx]\n",
    "        if key not in mydict:\n",
    "            mydict[key] = 1\n",
    "        else:\n",
    "            mydict[key] += 1\n",
    "\n",
    "    newcolumns = copy.deepcopy(columns)\n",
    "    newcolumns.remove(idx)\n",
    "    for key in mydict:\n",
    "        newrows = []\n",
    "        for i in rows:\n",
    "            if data[i][idx] == key:\n",
    "                newrows.append(i)\n",
    "        # print(newrows)\n",
    "        temp = buildTree(data, newrows, newcolumns)\n",
    "        temp.decision = key\n",
    "        root.childs.append(temp)\n",
    "    return root"
   ]
  },
  {
   "cell_type": "code",
   "execution_count": 7,
   "id": "364de519",
   "metadata": {},
   "outputs": [
    {
     "name": "stdout",
     "output_type": "stream",
     "text": [
      "Start\n",
      "Age\n",
      "<=30\n",
      "Student\n",
      "No\n",
      "No\n",
      "Yes\n",
      "Yes\n",
      "31-40\n",
      "Yes\n",
      ">40\n",
      "Credit_rating\n",
      "Fair\n",
      "Yes\n",
      "Excellent\n",
      "No\n"
     ]
    }
   ],
   "source": [
    "def traverse(root):\n",
    "    print(root.decision)\n",
    "    print(root.value)\n",
    "\n",
    "    n = len(root.childs)\n",
    "    if n > 0:\n",
    "        for i in range(0, n):\n",
    "            traverse(root.childs[i])\n",
    "            \n",
    "def calculate():\n",
    "    rows = [i for i in range(0, 14)]\n",
    "    columns = [i for i in range(0, 4)]\n",
    "    root = buildTree(X, rows, columns)\n",
    "    root.decision = 'Start'\n",
    "    traverse(root)\n",
    "\n",
    "\n",
    "calculate()\n"
   ]
  },
  {
   "cell_type": "code",
   "execution_count": null,
   "id": "d8cbe182",
   "metadata": {},
   "outputs": [],
   "source": []
  }
 ],
 "metadata": {
  "kernelspec": {
   "display_name": "Python 3 (ipykernel)",
   "language": "python",
   "name": "python3"
  },
  "language_info": {
   "codemirror_mode": {
    "name": "ipython",
    "version": 3
   },
   "file_extension": ".py",
   "mimetype": "text/x-python",
   "name": "python",
   "nbconvert_exporter": "python",
   "pygments_lexer": "ipython3",
   "version": "3.9.7"
  }
 },
 "nbformat": 4,
 "nbformat_minor": 5
}
