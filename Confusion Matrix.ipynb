{
 "cells": [
  {
   "cell_type": "code",
   "execution_count": 6,
   "id": "2812b14e",
   "metadata": {},
   "outputs": [
    {
     "name": "stdout",
     "output_type": "stream",
     "text": [
      "[0, 1, 0, 1, 1, 0, 0, 1, 0, 0, 1, 0, 0, 1, 1, 1, 0, 1, 0, 1, 0, 1, 0, 1, 0, 0, 1, 0, 0, 1, 0, 1, 0, 0, 1, 0, 0, 1, 0, 1, 1, 1, 0, 0, 1, 0, 1, 0, 1, 1, 0, 1, 0, 0, 1, 0, 1, 1, 1, 0, 1, 1, 1, 1, 0, 0, 0, 0, 0, 0, 1, 1, 0, 1, 0, 0, 0, 1, 1, 1, 1, 1, 1, 0, 0, 0, 1, 0, 0, 1, 1, 0, 0, 1, 1, 0, 1, 1, 0, 1]\n",
      "[0, 1, 1, 1, 0, 0, 0, 1, 0, 1, 1, 1, 0, 1, 1, 1, 1, 0, 1, 1, 1, 0, 0, 1, 0, 1, 0, 0, 0, 0, 1, 1, 0, 1, 0, 1, 1, 0, 0, 1, 0, 0, 0, 1, 1, 0, 0, 0, 1, 0, 0, 1, 0, 1, 1, 0, 0, 0, 0, 1, 0, 1, 0, 0, 1, 1, 0, 1, 1, 0, 0, 0, 1, 1, 1, 0, 1, 0, 1, 0, 1, 0, 0, 0, 1, 1, 1, 0, 0, 0, 0, 0, 1, 1, 0, 0, 0, 1, 0, 1]\n"
     ]
    }
   ],
   "source": [
    "import numpy as np\n",
    "import random\n",
    "X_actual=[]\n",
    "X_predicted=[]\n",
    "\n",
    "for i in range(100):\n",
    "    X_actual.append(random.randint(0,1))\n",
    "print(X_actual)\n",
    "\n",
    "for i in range(100):\n",
    "    X_predicted.append(random.randint(0,1))\n",
    "print(X_predicted)\n"
   ]
  },
  {
   "cell_type": "code",
   "execution_count": 7,
   "id": "9d704fd4",
   "metadata": {},
   "outputs": [
    {
     "name": "stdout",
     "output_type": "stream",
     "text": [
      "Confusion_Matrix:\n",
      "23   24\n",
      "27   26\n",
      "Acuracy= 49.0 %\n",
      "Pecision= 48.93617021276596 %\n",
      "Rcall 46.0 %\n",
      "F1_Score= 47.422680412371136\n"
     ]
    }
   ],
   "source": [
    "TN=0\n",
    "FP=0\n",
    "FN=0\n",
    "TP=0\n",
    "for i in range(100):\n",
    "    if(X_actual[i]==1 and X_predicted[i]==1):\n",
    "        TP+=1\n",
    "    elif(X_actual[i]==1 and X_predicted[i]==0):\n",
    "        FN+=1\n",
    "    elif(X_actual[i]==0 and X_predicted[i]==1):\n",
    "        FP+=1\n",
    "    else:\n",
    "        TN+=1\n",
    "        \n",
    "print('Confusion_Matrix:')\n",
    "print(TP,' ',FP)\n",
    "print(FN,' ',TN)\n",
    "\n",
    "accuracy=((TN+TP)/(TN+FP+TP+FN))*100.0\n",
    "print('Acuracy=',accuracy,'%')\n",
    "precision=(TP/(TP+FP))*100.0\n",
    "print('Pecision=',precision,'%')\n",
    "recall=(TP/(TP+FN))*100.0\n",
    "print('Rcall',recall,'%')\n",
    "F1_Score=2.0*((precision*recall)/(precision+recall))\n",
    "print('F1_Score=',F1_Score)"
   ]
  },
  {
   "cell_type": "code",
   "execution_count": null,
   "id": "979e05a6",
   "metadata": {},
   "outputs": [],
   "source": []
  }
 ],
 "metadata": {
  "kernelspec": {
   "display_name": "Python 3 (ipykernel)",
   "language": "python",
   "name": "python3"
  },
  "language_info": {
   "codemirror_mode": {
    "name": "ipython",
    "version": 3
   },
   "file_extension": ".py",
   "mimetype": "text/x-python",
   "name": "python",
   "nbconvert_exporter": "python",
   "pygments_lexer": "ipython3",
   "version": "3.9.7"
  }
 },
 "nbformat": 4,
 "nbformat_minor": 5
}
