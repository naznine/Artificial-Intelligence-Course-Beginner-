{
 "cells": [
  {
   "cell_type": "code",
   "execution_count": 1,
   "id": "c498e85a",
   "metadata": {},
   "outputs": [
    {
     "name": "stdout",
     "output_type": "stream",
     "text": [
      "   Region-centroid-col  Region-centroid-row  Region-pixel-count  \\\n",
      "0                  218                  178                   9   \n",
      "1                  113                  130                   9   \n",
      "2                  202                   41                   9   \n",
      "3                   32                  173                   9   \n",
      "4                   61                  197                   9   \n",
      "\n",
      "   Short-line-density-5  Short-line-density-2  Vedge-mean real  Vegde-sd real  \\\n",
      "0              0.111111                   0.0         0.833333       0.547722   \n",
      "1              0.000000                   0.0         0.277778       0.250924   \n",
      "2              0.000000                   0.0         0.944448       0.772202   \n",
      "3              0.000000                   0.0         1.722222       1.781593   \n",
      "4              0.000000                   0.0         1.444444       1.515353   \n",
      "\n",
      "   Hedge-mean real  Hedge-sd real  Intensity-mean  Rawred-mean  Rawblue-mean  \\\n",
      "0         1.111109       0.544331       59.629630    52.444443     75.222220   \n",
      "1         0.333333       0.365148        0.888889     0.000000      2.555556   \n",
      "2         1.111112       1.025597      123.037040   111.888885    139.777790   \n",
      "3         9.000000       6.749488       43.592594    39.555557     52.888890   \n",
      "4         2.611111       1.925463       49.592594    44.222220     61.555557   \n",
      "\n",
      "   Rawgreen-mean  Exred-mean  Exblue-mean  Exgreen-mean  Value-mean  \\\n",
      "0      51.222220  -21.555555     46.77778    -25.222221   75.222220   \n",
      "1       0.111111   -2.666667      5.00000     -2.333333    2.555556   \n",
      "2     117.444440  -33.444443     50.22222    -16.777779  139.777790   \n",
      "3      38.333336  -12.111111     27.88889    -15.777778   52.888890   \n",
      "4      43.000000  -16.111110     35.88889    -19.777779   61.555557   \n",
      "\n",
      "   Saturatoin-mean  Hue-mean      Class  \n",
      "0         0.318996 -2.040554   negative  \n",
      "1         1.000000 -2.123254   negative  \n",
      "2         0.199347 -2.299918   negative  \n",
      "3         0.266914 -1.998857   negative  \n",
      "4         0.302925 -2.022274   negative  \n",
      "Class\n"
     ]
    }
   ],
   "source": [
    "import numpy as np\n",
    "import matplotlib.pyplot as plt\n",
    "import pandas as pd\n",
    "import math\n",
    "import copy\n",
    "from sklearn.preprocessing import StandardScaler\n",
    "from sklearn.model_selection import train_test_split\n",
    "\n",
    "dataset = pd.read_csv(r'H:\\RUET\\3--2\\CSE 3210- Sessional on 3209\\Decision_Tree\\segment0.csv')\n",
    "\n",
    "print(dataset.head())\n",
    "total_rows=len(dataset.axes[0]) \n",
    "total_cols=len(dataset.axes[1])\n",
    "str1=dataset.columns[total_cols-1]\n",
    "dataset.rename(columns={str1: 'Class'}, inplace=True)\n",
    "str1=dataset.columns[total_cols-1]\n",
    "print(str1)"
   ]
  },
  {
   "cell_type": "code",
   "execution_count": 2,
   "id": "193b2434",
   "metadata": {},
   "outputs": [
    {
     "name": "stdout",
     "output_type": "stream",
     "text": [
      "Class 0: 1979\n",
      "Class 1: 329\n",
      "Proportion: 6.02 : 1\n"
     ]
    }
   ],
   "source": [
    "target_count = dataset.Class.value_counts()\n",
    "\n",
    "uniq=np.unique(dataset[str1])\n",
    "\n",
    "print('Class 0:', target_count[uniq[0]])\n",
    "print('Class 1:', target_count[uniq[1]])\n",
    "print('Proportion:', round(target_count[uniq[0]] / target_count[uniq[1]], 2), ': 1')\n",
    "#target_count.plot(kind='bar', title='Count (target)');"
   ]
  },
  {
   "cell_type": "code",
   "execution_count": 3,
   "id": "71525d94",
   "metadata": {},
   "outputs": [
    {
     "name": "stdout",
     "output_type": "stream",
     "text": [
      "Random under-sampling:\n",
      " negative    329\n",
      " positive    329\n",
      "Name: Class, dtype: int64\n"
     ]
    }
   ],
   "source": [
    "# Class count\n",
    "count_class_0, count_class_1 = dataset.Class.value_counts()\n",
    "\n",
    "# Divide by class\n",
    "if(target_count[uniq[0]]>target_count[uniq[1]]):\n",
    "    dataset_class_0 = dataset[dataset[str1] == uniq[0]]\n",
    "    dataset_class_1 = dataset[dataset[str1] == uniq[1]]\n",
    "else:\n",
    "    dataset_class_0 = dataset[dataset[str1] == uniq[1]]\n",
    "    dataset_class_1 = dataset[dataset[str1] == uniq[0]]\n",
    "\n",
    "dataset_class_0_under = dataset_class_0.sample(count_class_1)\n",
    "dataset_under = pd.concat([dataset_class_0_under, dataset_class_1], axis=0)\n",
    "\n",
    "print('Random under-sampling:')\n",
    "print(dataset_under.Class.value_counts())"
   ]
  },
  {
   "cell_type": "code",
   "execution_count": 4,
   "id": "8f49cd14",
   "metadata": {},
   "outputs": [],
   "source": [
    "X = dataset_under.drop(columns = str1, axis=1)\n",
    "Y = dataset_under[str1]\n",
    "\n",
    "X_train, X_test, Y_train, Y_test = train_test_split(X, Y, test_size=0.2, random_state=15)"
   ]
  },
  {
   "cell_type": "code",
   "execution_count": 5,
   "id": "b992797f",
   "metadata": {},
   "outputs": [],
   "source": [
    "from sklearn.tree import DecisionTreeClassifier"
   ]
  },
  {
   "cell_type": "code",
   "execution_count": 6,
   "id": "042ec87e",
   "metadata": {},
   "outputs": [
    {
     "name": "stdout",
     "output_type": "stream",
     "text": [
      "[' negative' ' positive' ' positive' ' positive' ' positive' ' positive'\n",
      " ' positive' ' negative' ' positive' ' positive' ' positive' ' negative'\n",
      " ' positive' ' negative' ' negative' ' positive' ' negative' ' positive'\n",
      " ' positive' ' positive' ' positive' ' negative' ' positive' ' negative'\n",
      " ' negative' ' negative' ' negative' ' negative' ' positive' ' positive'\n",
      " ' negative' ' positive' ' negative' ' positive' ' positive' ' negative'\n",
      " ' positive' ' positive' ' positive' ' negative' ' negative' ' positive'\n",
      " ' negative' ' negative' ' negative' ' negative' ' negative' ' positive'\n",
      " ' negative' ' negative' ' negative' ' negative' ' positive' ' negative'\n",
      " ' negative' ' positive' ' negative' ' positive' ' positive' ' negative'\n",
      " ' positive' ' positive' ' positive' ' positive' ' positive' ' positive'\n",
      " ' negative' ' negative' ' positive' ' positive' ' negative' ' negative'\n",
      " ' negative' ' negative' ' positive' ' positive' ' positive' ' positive'\n",
      " ' positive' ' positive' ' negative' ' negative' ' negative' ' negative'\n",
      " ' negative' ' negative' ' negative' ' positive' ' positive' ' negative'\n",
      " ' negative' ' positive' ' positive' ' positive' ' negative' ' positive'\n",
      " ' positive' ' positive' ' negative' ' negative' ' positive' ' negative'\n",
      " ' negative' ' negative' ' negative' ' positive' ' negative' ' positive'\n",
      " ' negative' ' negative' ' negative' ' positive' ' positive' ' positive'\n",
      " ' positive' ' positive' ' negative' ' negative' ' negative' ' negative'\n",
      " ' positive' ' positive' ' positive' ' positive' ' positive' ' positive'\n",
      " ' positive' ' negative' ' positive' ' positive' ' positive' ' negative']\n"
     ]
    }
   ],
   "source": [
    "dt=DecisionTreeClassifier()\n",
    "dtfit=dt.fit(X_train,Y_train)\n",
    "Y_pred=dtfit.predict(X_test)\n",
    "print(Y_pred)"
   ]
  },
  {
   "cell_type": "code",
   "execution_count": 7,
   "id": "366d5c01",
   "metadata": {},
   "outputs": [
    {
     "name": "stdout",
     "output_type": "stream",
     "text": [
      "[[61  2]\n",
      " [ 1 68]]\n"
     ]
    }
   ],
   "source": [
    "from sklearn.metrics import confusion_matrix\n",
    "matrix=confusion_matrix(Y_test, Y_pred)\n",
    "print(matrix)"
   ]
  },
  {
   "cell_type": "code",
   "execution_count": 8,
   "id": "3a0a77c8",
   "metadata": {},
   "outputs": [
    {
     "name": "stdout",
     "output_type": "stream",
     "text": [
      "61\n",
      "2\n",
      "1\n",
      "68\n"
     ]
    }
   ],
   "source": [
    "TN=matrix[0][0]\n",
    "FP=matrix[0][1]\n",
    "FN=matrix[1][0]\n",
    "TP=matrix[1][1]\n",
    "\n",
    "print(TN)\n",
    "print(FP)\n",
    "print(FN)\n",
    "print(TP)"
   ]
  },
  {
   "cell_type": "code",
   "execution_count": 9,
   "id": "a8ca8282",
   "metadata": {},
   "outputs": [
    {
     "name": "stdout",
     "output_type": "stream",
     "text": [
      "97.72727272727273 %\n"
     ]
    }
   ],
   "source": [
    "accuracy=((TN+TP)/(TN+FP+TP+FN))*100.0\n",
    "print(accuracy,'%')"
   ]
  },
  {
   "cell_type": "code",
   "execution_count": 10,
   "id": "96f89c19",
   "metadata": {},
   "outputs": [
    {
     "name": "stdout",
     "output_type": "stream",
     "text": [
      "97.14285714285714 %\n"
     ]
    }
   ],
   "source": [
    "precision=(TP/(TP+FP))*100.0\n",
    "print(precision,'%')"
   ]
  },
  {
   "cell_type": "code",
   "execution_count": 11,
   "id": "67dec5f8",
   "metadata": {},
   "outputs": [
    {
     "name": "stdout",
     "output_type": "stream",
     "text": [
      "98.55072463768117 %\n"
     ]
    }
   ],
   "source": [
    "recall=(TP/(TP+FN))*100.0\n",
    "print(recall,'%')"
   ]
  },
  {
   "cell_type": "code",
   "execution_count": 12,
   "id": "25ca6355",
   "metadata": {},
   "outputs": [
    {
     "name": "stdout",
     "output_type": "stream",
     "text": [
      "97.84172661870505\n"
     ]
    }
   ],
   "source": [
    "F1_Score=2.0*((precision*recall)/(precision+recall))\n",
    "print(F1_Score)"
   ]
  },
  {
   "cell_type": "code",
   "execution_count": null,
   "id": "8680af2b",
   "metadata": {},
   "outputs": [],
   "source": []
  }
 ],
 "metadata": {
  "kernelspec": {
   "display_name": "Python 3 (ipykernel)",
   "language": "python",
   "name": "python3"
  },
  "language_info": {
   "codemirror_mode": {
    "name": "ipython",
    "version": 3
   },
   "file_extension": ".py",
   "mimetype": "text/x-python",
   "name": "python",
   "nbconvert_exporter": "python",
   "pygments_lexer": "ipython3",
   "version": "3.9.7"
  }
 },
 "nbformat": 4,
 "nbformat_minor": 5
}
