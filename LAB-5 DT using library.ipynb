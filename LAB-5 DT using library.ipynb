{
 "cells": [
  {
   "cell_type": "code",
   "execution_count": 1,
   "id": "7a477845",
   "metadata": {},
   "outputs": [
    {
     "name": "stdout",
     "output_type": "stream",
     "text": [
      "[' positive' ' positive' ' negative' ' negative' ' negative' ' positive'\n",
      " ' negative' ' negative' ' positive' ' negative' ' positive' ' negative'\n",
      " ' negative' ' positive' ' negative' ' negative' ' negative' ' positive'\n",
      " ' negative' ' positive' ' negative' ' negative' ' negative' ' negative'\n",
      " ' negative' ' negative' ' positive' ' positive' ' negative' ' negative'\n",
      " ' positive' ' positive' ' negative' ' negative' ' negative' ' negative'\n",
      " ' negative' ' negative' ' negative' ' negative' ' negative' ' positive'\n",
      " ' positive' ' negative' ' negative' ' negative' ' negative' ' positive'\n",
      " ' negative' ' negative' ' negative' ' negative' ' negative' ' positive'\n",
      " ' negative' ' positive' ' negative' ' positive' ' positive' ' negative'\n",
      " ' positive' ' positive']\n"
     ]
    }
   ],
   "source": [
    "import numpy as np\n",
    "import matplotlib.pyplot as plt\n",
    "import pandas as pd\n",
    "import math\n",
    "import copy\n",
    "from sklearn.preprocessing import StandardScaler\n",
    "from sklearn.model_selection import train_test_split\n",
    "from sklearn.tree import DecisionTreeClassifier\n",
    "from sklearn.metrics import confusion_matrix\n",
    "\n",
    "dataset = pd.read_csv(r'H:\\RUET\\3--2\\CSE 3210- Sessional on 3209\\Decision_Tree\\.csv')\n",
    "total_cols=len(dataset.axes[1])\n",
    "str1=dataset.columns[total_cols-1]\n",
    "\n",
    "X = dataset.drop(columns = str1, axis=1)\n",
    "Y = dataset[str1]\n",
    "\n",
    "X_train, X_test, Y_train, Y_test = train_test_split(X, Y, test_size=0.2, random_state=15)\n",
    "\n",
    "dt=DecisionTreeClassifier()\n",
    "dtfit=dt.fit(X_train,Y_train)\n",
    "Y_pred=dtfit.predict(X_test)\n",
    "print(Y_pred)"
   ]
  },
  {
   "cell_type": "code",
   "execution_count": 2,
   "id": "32a08aa0",
   "metadata": {},
   "outputs": [
    {
     "name": "stdout",
     "output_type": "stream",
     "text": [
      "135     negative\n",
      "212     positive\n",
      "80      positive\n",
      "92      negative\n",
      "12      negative\n",
      "         ...    \n",
      "179     negative\n",
      "106     negative\n",
      "30      negative\n",
      "50      negative\n",
      "99      positive\n",
      "Name: Class, Length: 62, dtype: object\n"
     ]
    }
   ],
   "source": [
    "print(Y_test)"
   ]
  },
  {
   "cell_type": "code",
   "execution_count": 3,
   "id": "34f65ff8",
   "metadata": {
    "scrolled": true
   },
   "outputs": [
    {
     "name": "stdout",
     "output_type": "stream",
     "text": [
      "Confusion Matrix: \n",
      "[[30 12]\n",
      " [11  9]]\n",
      "Acuracy= 62.903225806451616 %\n",
      "Pecision= 71.42857142857143 %\n",
      "Rcall 73.17073170731707 %\n",
      "F1_Score= 72.28915662650603\n"
     ]
    }
   ],
   "source": [
    "matrix=confusion_matrix(Y_test, Y_pred)\n",
    "print('Confusion Matrix: ')\n",
    "print(matrix)\n",
    "\n",
    "TP=matrix[0][0]\n",
    "FP=matrix[0][1]\n",
    "FN=matrix[1][0]\n",
    "TN=matrix[1][1]\n",
    "\n",
    "#print(TN)\n",
    "#print(FP)\n",
    "#print(FN)\n",
    "#print(TP)\n",
    "\n",
    "accuracy=((TN+TP)/(TN+FP+TP+FN))*100.0\n",
    "print('Acuracy=',accuracy,'%')\n",
    "precision=(TP/(TP+FP))*100.0\n",
    "print('Pecision=',precision,'%')\n",
    "recall=(TP/(TP+FN))*100.0\n",
    "print('Rcall',recall,'%')\n",
    "F1_Score=2.0*((precision*recall)/(precision+recall))\n",
    "print('F1_Score=',F1_Score)"
   ]
  },
  {
   "cell_type": "code",
   "execution_count": null,
   "id": "03af51c9",
   "metadata": {},
   "outputs": [],
   "source": []
  }
 ],
 "metadata": {
  "kernelspec": {
   "display_name": "Python 3 (ipykernel)",
   "language": "python",
   "name": "python3"
  },
  "language_info": {
   "codemirror_mode": {
    "name": "ipython",
    "version": 3
   },
   "file_extension": ".py",
   "mimetype": "text/x-python",
   "name": "python",
   "nbconvert_exporter": "python",
   "pygments_lexer": "ipython3",
   "version": "3.9.7"
  }
 },
 "nbformat": 4,
 "nbformat_minor": 5
}
