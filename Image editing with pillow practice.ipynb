{
 "cells": [
  {
   "cell_type": "code",
   "execution_count": 1,
   "id": "641525f0",
   "metadata": {},
   "outputs": [
    {
     "name": "stdout",
     "output_type": "stream",
     "text": [
      "Requirement already satisfied: pillow in c:\\users\\user\\anaconda3\\lib\\site-packages (8.4.0)\n",
      "Note: you may need to restart the kernel to use updated packages.\n"
     ]
    }
   ],
   "source": [
    "pip install pillow"
   ]
  },
  {
   "cell_type": "code",
   "execution_count": 2,
   "id": "19b0a303",
   "metadata": {},
   "outputs": [],
   "source": [
    "from PIL import Image\n",
    "img = Image.open(\"H:\\RUET\\ES_PIC\\pic.jpg\")\n",
    "img.show()"
   ]
  },
  {
   "cell_type": "code",
   "execution_count": 3,
   "id": "f5560aa3",
   "metadata": {},
   "outputs": [],
   "source": [
    "img.save('H:\\RUET\\ES_PIC\\pic.png')"
   ]
  },
  {
   "cell_type": "code",
   "execution_count": 4,
   "id": "9b75d5c8",
   "metadata": {},
   "outputs": [],
   "source": [
    "width = 400\n",
    "height = 300\n",
    "\n",
    "img  = Image.new( mode = \"RGB\", size = (width, height) )\n",
    "img.show()"
   ]
  },
  {
   "cell_type": "code",
   "execution_count": 5,
   "id": "d3c7eeeb",
   "metadata": {},
   "outputs": [],
   "source": [
    "from PIL import Image  \n",
    "\n",
    "width = 400\n",
    "height = 300\n",
    "\n",
    "img  = Image.new( mode = \"RGB\", size = (width, height), color = (209, 123, 193) )\n",
    "img.show()"
   ]
  },
  {
   "cell_type": "code",
   "execution_count": 6,
   "id": "3d333e3c",
   "metadata": {},
   "outputs": [],
   "source": [
    "from PIL import Image  \n",
    "\n",
    "width = 400\n",
    "height = 300\n",
    "\n",
    "img  = Image.new( mode = \"CMYK\", size = (width, height), color = (209, 123, 193, 100) )\n",
    "img.show()"
   ]
  },
  {
   "cell_type": "code",
   "execution_count": null,
   "id": "3c6284a9",
   "metadata": {},
   "outputs": [],
   "source": []
  }
 ],
 "metadata": {
  "kernelspec": {
   "display_name": "Python 3 (ipykernel)",
   "language": "python",
   "name": "python3"
  },
  "language_info": {
   "codemirror_mode": {
    "name": "ipython",
    "version": 3
   },
   "file_extension": ".py",
   "mimetype": "text/x-python",
   "name": "python",
   "nbconvert_exporter": "python",
   "pygments_lexer": "ipython3",
   "version": "3.9.7"
  }
 },
 "nbformat": 4,
 "nbformat_minor": 5
}
